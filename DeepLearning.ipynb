{
 "cells": [
  {
   "attachments": {},
   "cell_type": "markdown",
   "metadata": {},
   "source": [
    "# Pytorch - Deep learning"
   ]
  },
  {
   "cell_type": "code",
   "execution_count": 19,
   "metadata": {},
   "outputs": [],
   "source": [
    "import pandas as pd\n",
    "import numpy as np\n",
    "import torch\n",
    "import torch.nn as nn\n",
    "import torch.nn.functional as F\n",
    "from sklearn.preprocessing import MinMaxScaler, StandardScaler\n",
    "\n",
    "device = torch.device('cuda' if torch.cuda.is_available() else 'cpu')"
   ]
  },
  {
   "cell_type": "code",
   "execution_count": null,
   "metadata": {},
   "outputs": [],
   "source": [
    "# from google.colab import drive\n",
    "# drive.mount('/content/drive')\n",
    "\n",
    "# df = pd.read_csv('drive/MyDrive/Bcell_Epitopes/bcell_cleaned.csv')\n",
    "# df_sample = df.groupby('antibody_activity', group_keys=False).apply(lambda x: x.sample(min(len(x), 1000), random_state=42))\n",
    "\n",
    "# df_test = pd.read_csv('drive/MyDrive/Bcell_Epitopes/sars_cleaned.csv')\n",
    "\n",
    "# all = pd.read_csv('drive/MyDrive/Bcell_Epitopes/bcell_sars_cleaned.csv'"
   ]
  },
  {
   "cell_type": "code",
   "execution_count": 2,
   "metadata": {},
   "outputs": [],
   "source": [
    "df = pd.read_csv('bcell_cleaned.csv')\n",
    "df_sample = df.groupby('antibody_activity', group_keys=False).apply(lambda x: x.sample(min(len(x), 1000), random_state=42))\n",
    "\n",
    "df_test = pd.read_csv('sars_cleaned.csv')\n"
   ]
  },
  {
   "cell_type": "code",
   "execution_count": null,
   "metadata": {},
   "outputs": [],
   "source": [
    "# # bcell and sars together\n",
    "# all = pd.read_csv('bcell_sars_cleaned.csv')\n",
    "\n",
    "# # take sample with even distribution of antibody activity\n",
    "# all_sample = all.groupby('antibody_activity', group_keys=False).apply(lambda x: x.sample(min(len(x), 4032), random_state=42))\n",
    "\n",
    "# # split into train and test\n",
    "# all_train = all_sample.sample(frac=0.8, random_state=42)\n",
    "# all_test = all_sample.drop(all_train.index)\n",
    "\n",
    "# # make Series of peptides, proteins, and targets\n",
    "# all_pep = all_train['peptide_seq']\n",
    "# all_prot = all_train['protein_seq']\n",
    "# all_target = all_train['antibody_activity']\n",
    "\n",
    "# # make Series of peptides, proteins, and targets for test set\n",
    "# all_pep_test = all_test['peptide_seq']\n",
    "# all_prot_test = all_test['protein_seq']\n",
    "# all_target_test = all_test['antibody_activity']\n",
    "\n",
    "# # amino acid dictionary\n",
    "# amino_acids = ['A', 'C', 'D', 'E', 'F', 'G', 'H', 'I', 'K', 'L', 'M', 'N', 'P', 'Q', 'R', 'S', 'T', 'V', 'W', 'Y']\n",
    "\n",
    "# # convert peptide and protein sequences to tensors\n",
    "# all_pep_tensor = [torch.tensor([amino_acids.index(aa) for aa in seq], dtype=torch.long) for seq in all_pep]\n",
    "# all_prot_tensor = [torch.tensor([amino_acids.index(aa) for aa in seq], dtype=torch.long) for seq in all_prot]\n",
    "# all_labels = torch.tensor(all_target, dtype=torch.long).to(device)\n",
    "\n",
    "# # convert peptide and protein sequences to tensors for test set\n",
    "# all_pep_tensor_test = [torch.tensor([amino_acids.index(aa) for aa in seq], dtype=torch.long) for seq in all_pep_test]\n",
    "# all_prot_tensor_test = [torch.tensor([amino_acids.index(aa) for aa in seq], dtype=torch.long) for seq in all_prot_test]\n",
    "# all_labels_test = torch.tensor(all_target_test.to_list(), dtype=torch.long).to(device)\n",
    "\n",
    "# # scale peptide and protein tensors with min-max scaling\n",
    "# scaler = MinMaxScaler()\n",
    "# all_pep_tensor = [scaler.fit_transform(seq.reshape(-1, 1)).reshape(-1) for seq in all_pep_tensor]\n",
    "# all_prot_tensor = [scaler.fit_transform(seq.reshape(-1, 1)).reshape(-1) for seq in all_prot_tensor]\n",
    "\n",
    "# # scale peptide and protein tensors with min-max scaling for test set\n",
    "# all_pep_tensor_test = [scaler.fit_transform(seq.reshape(-1, 1)).reshape(-1) for seq in all_pep_tensor_test]\n",
    "# all_prot_tensor_test = [scaler.fit_transform(seq.reshape(-1, 1)).reshape(-1) for seq in all_prot_tensor_test]\n",
    "\n",
    "# # transform back to tensors\n",
    "# all_pep_tensor = [torch.tensor(seq, dtype=torch.long) for seq in all_pep_tensor]\n",
    "# all_prot_tensor = [torch.tensor(seq, dtype=torch.long) for seq in all_prot_tensor]\n",
    "\n",
    "# # transform back to tensors for test set\n",
    "# all_pep_tensor_test = [torch.tensor(seq, dtype=torch.long) for seq in all_pep_tensor_test]\n",
    "# all_prot_tensor_test = [torch.tensor(seq, dtype=torch.long) for seq in all_prot_tensor_test]\n",
    "\n",
    "\n",
    "# # pad peptide and protein sequences\n",
    "# all_pep_tensor = torch.nn.utils.rnn.pad_sequence(all_pep_tensor, batch_first=True).to(device)\n",
    "# all_prot_tensor = torch.nn.utils.rnn.pad_sequence(all_prot_tensor, batch_first=True).to(device)\n",
    "# all_pep_tensor_test = torch.nn.utils.rnn.pad_sequence(all_pep_tensor_test, batch_first=True).to(device)\n",
    "# all_prot_tensor_test = torch.nn.utils.rnn.pad_sequence(all_prot_tensor_test, batch_first=True).to(device)"
   ]
  },
  {
   "cell_type": "code",
   "execution_count": null,
   "metadata": {},
   "outputs": [],
   "source": [
    "all_sample = all.groupby('antibody_activity', group_keys=False).apply(lambda x: x.sample(min(len(x), 1000), random_state=42))\n",
    "\n",
    "X = all_sample[['peptide_seq', 'protein_seq']]\n",
    "y = all_sample['antibody_activity']\n",
    "\n",
    "# split into train and test\n",
    "from sklearn.model_selection import train_test_split\n",
    "\n",
    "X_train, X_test, y_train, y_test = train_test_split(X, y, random_state=0, test_size=0.2, stratify=y)\n",
    "\n",
    "prot_train = X_train['protein_seq']\n",
    "pep_train = X_train['peptide_seq']\n",
    "prot_test = X_test['protein_seq']\n",
    "pep_test = X_test['peptide_seq']\n",
    "\n",
    "# amino acid dictionary\n",
    "amino_acids = ['A', 'C', 'D', 'E', 'F', 'G', 'H', 'I', 'K', 'L', 'M', 'N', 'P', 'Q', 'R', 'S', 'T', 'V', 'W', 'Y']\n",
    "\n",
    "# convert peptide sequence to tensor\n",
    "pep_train = [torch.tensor([amino_acids.index(aa) for aa in seq], dtype=torch.long) for seq in pep_train]\n",
    "prot_train = [torch.tensor([amino_acids.index(aa) for aa in seq], dtype=torch.long) for seq in prot_train]\n",
    "labels_train = torch.tensor(y_train, dtype=torch.long).to(device)\n",
    "\n",
    "# convert peptide sequence to tensor for test set\n",
    "pep_test = [torch.tensor([amino_acids.index(aa) for aa in seq], dtype=torch.long) for seq in pep_test]\n",
    "prot_test = [torch.tensor([amino_acids.index(aa) for aa in seq], dtype=torch.long) for seq in prot_test]\n",
    "labels_test = torch.tensor(y_test.to_list(), dtype=torch.long).to(device)\n",
    "\n",
    "# pad peptide sequence to the same length\n",
    "pep_train = torch.nn.utils.rnn.pad_sequence(pep_train, batch_first=True).to(device)\n",
    "prot_train = torch.nn.utils.rnn.pad_sequence(prot_train, batch_first=True).to(device)\n",
    "pep_test = torch.nn.utils.rnn.pad_sequence(pep_test, batch_first=True).to(device)\n",
    "prot_test = torch.nn.utils.rnn.pad_sequence(prot_test, batch_first=True).to(device)"
   ]
  },
  {
   "cell_type": "code",
   "execution_count": 3,
   "metadata": {},
   "outputs": [],
   "source": [
    "prot_seq = df_sample['protein_seq']\n",
    "pep_seq = df_sample['peptide_seq']\n",
    "start = df_sample['start_position']\n",
    "target = df_sample['antibody_activity']\n",
    "mask = df_sample['peptide_mask']\n",
    "\n",
    "prot_seq_test = df_test['protein_seq']\n",
    "pep_seq_test = df_test['peptide_seq']\n",
    "start_test = df_test['start_position']\n",
    "target_test = df_test['antibody_activity']\n",
    "mask_test = df_test['peptide_mask']"
   ]
  },
  {
   "cell_type": "code",
   "execution_count": 61,
   "metadata": {},
   "outputs": [],
   "source": [
    "def NormalizeTensor(data):\n",
    "    return (data - torch.min(data)) / (torch.max(data) - torch.min(data))"
   ]
  },
  {
   "cell_type": "code",
   "execution_count": 4,
   "metadata": {},
   "outputs": [],
   "source": [
    "# amino acids dictionary\n",
    "amino_acids = ['A', 'C', 'D', 'E', 'F', 'G', 'H', 'I', 'K', 'L', 'M', 'N', 'P', 'Q', 'R', 'S', 'T', 'V', 'W', 'Y']\n",
    "\n",
    "# convert peptide sequence to tensor\n",
    "pep_tensor = [torch.tensor([amino_acids.index(aa) for aa in seq], dtype=torch.long) for seq in pep_seq]\n",
    "prot_tensor = [torch.tensor([amino_acids.index(aa) for aa in seq], dtype=torch.long) for seq in prot_seq]\n",
    "labels_tensor = torch.tensor(target, dtype=torch.long).to(device)\n",
    "\n",
    "\n",
    "pep_tensor_test = [torch.tensor([amino_acids.index(aa) for aa in seq], dtype=torch.long) for seq in pep_seq_test]\n",
    "prot_tensor_test = [torch.tensor([amino_acids.index(aa) for aa in seq], dtype=torch.long) for seq in prot_seq_test]\n",
    "labels_tensor_test = torch.tensor(target_test, dtype=torch.long).to(device)\n",
    "\n",
    "# pad peptide sequence to the same length\n",
    "pep_tensor = nn.utils.rnn.pad_sequence(pep_tensor, batch_first=True).to(device)\n",
    "prot_tensor = nn.utils.rnn.pad_sequence(prot_tensor, batch_first=True).to(device)\n",
    "pep_tensor_test = nn.utils.rnn.pad_sequence(pep_tensor_test, batch_first=True).to(device)\n",
    "prot_tensor_test = nn.utils.rnn.pad_sequence(prot_tensor_test, batch_first=True).to(device)\n",
    "\n",
    "# normalize tensors - not sure if this is necessary\n",
    "# pep_tensor = NormalizeTensor(pep_tensor)\n",
    "# prot_tensor = NormalizeTensor(prot_tensor)\n",
    "# pep_tensor_test = NormalizeTensor(pep_tensor_test)\n",
    "# prot_tensor_test = NormalizeTensor(prot_tensor_test)"
   ]
  },
  {
   "cell_type": "code",
   "execution_count": 6,
   "metadata": {},
   "outputs": [],
   "source": [
    "embedding_dim = 64\n",
    "hidden_dim = 32\n",
    "num_layers = 2\n",
    "num_classes = 2\n",
    "num_epochs = 10\n",
    "batch_size = 64\n",
    "learning_rate = 0.003\n",
    "\n",
    "device = torch.device('cuda' if torch.cuda.is_available() else 'cpu')"
   ]
  },
  {
   "attachments": {},
   "cell_type": "markdown",
   "metadata": {},
   "source": [
    "## RNN"
   ]
  },
  {
   "cell_type": "code",
   "execution_count": null,
   "metadata": {},
   "outputs": [],
   "source": [
    "class RNN(nn.Module):\n",
    "    def __init__(self, embedding_dim, hidden_dim, num_layers, num_classes) -> None:\n",
    "        super(RNN, self).__init__()\n",
    "        self.num_layers = num_layers\n",
    "        self.hidden_dim = hidden_dim\n",
    "        self.embedding = nn.Embedding(20, embedding_dim)\n",
    "        self.rnn = nn.RNN(embedding_dim, hidden_dim, num_layers, batch_first=True)\n",
    "        # x shape -> (batch_size, seq_size, input_size)\n",
    "\n",
    "        self.fc = nn.Linear(hidden_dim, num_classes)\n",
    "    \n",
    "    def forward(self, seq):\n",
    "        h0 = torch.zeros(self.num_layers, seq.size(0), self.hidden_dim).to(device)\n",
    "\n",
    "        out, _ = self.rnn(self.embedding(seq), h0)\n",
    "        # out: batch_size, seq_length, hidden_dim\n",
    "        # out (N, seq , 32)\n",
    "        out = out[:, -1, :]\n",
    "        # out (N, 32)\n",
    "        out = self.fc(out)\n",
    "        return out\n"
   ]
  },
  {
   "cell_type": "code",
   "execution_count": 48,
   "metadata": {},
   "outputs": [],
   "source": [
    "def train_test(model, num_epochs, batch_size, learning_rate, X, y, X_test, y_test):\n",
    "    '''\n",
    "    train and test rnn model\n",
    "    '''\n",
    "    # loss and optimizer\n",
    "    criterion = nn.CrossEntropyLoss()\n",
    "    optimizer = torch.optim.SGD(model.parameters(), lr=learning_rate)\n",
    "\n",
    "    for epoch in range(num_epochs):\n",
    "        loss_sum = 0\n",
    "        acc_sum = 0\n",
    "        acc_sum_test = 0\n",
    "        for i in range(0, len(X), batch_size):\n",
    "            # print(f'/rEpoch = {epoch}', end='')\n",
    "            batch_X = X[i:i+batch_size]\n",
    "            batch_y = y[i:i+batch_size]\n",
    "            \n",
    "            optimizer.zero_grad()\n",
    "            output_values = model(batch_X)\n",
    "\n",
    "            loss = criterion(output_values, batch_y)\n",
    "\n",
    "            loss.backward()\n",
    "            optimizer.step()\n",
    "\n",
    "            loss_sum += loss.item()\n",
    "            \n",
    "            predicted = torch.argmax(output_values, dim=1)\n",
    "            acc_sum += (predicted == batch_y).sum().item() / len(batch_y)\n",
    "\n",
    "        loss_avg = round((loss_sum / (len(X) / batch_size)), 3)\n",
    "        acc_avg = round((acc_sum / (len(X) / batch_size)), 3)\n",
    "\n",
    "        predicted_test = torch.argmax(model(X_test), dim=1)\n",
    "        acc_sum_test = (predicted_test == y_test).sum().item() / len(y_test)\n",
    "        acc_avg_test = round((acc_sum_test), 3)\n",
    "        # f1 score for test set positive class\n",
    "        f1 = round(f1_score(y_test, predicted_test, pos_label=1), 3)\n",
    "\n",
    "        if updates == True:\n",
    "            print(f'Epoch = {epoch+1}, loss = {loss_avg}, acc = {acc_avg*100}, test_acc = {acc_avg_test*100}, f1 (pos) = {f1}')\n",
    "        # scores.loc[epoch, \"Epoch\"] = epoch + 1\n",
    "        scores.loc[epoch, 'Training Accuracy'] = acc_avg*100\n",
    "        scores.loc[epoch, 'Test Accuracy'] = acc_avg_test*100\n",
    "\n",
    "    scores.plot(kind='line')\n",
    "\n",
    "    print('Finished Training')\n",
    "            \n",
    "\n"
   ]
  },
  {
   "cell_type": "code",
   "execution_count": null,
   "metadata": {},
   "outputs": [],
   "source": [
    "rnn = RNN(embedding_dim, hidden_dim, num_layers, num_classes).to(device)"
   ]
  },
  {
   "cell_type": "code",
   "execution_count": null,
   "metadata": {},
   "outputs": [],
   "source": [
    "train_test(rnn, 20, batch_size, 0.1, pep_tensor, labels_tensor, pep_tensor_test, labels_tensor_test)"
   ]
  },
  {
   "attachments": {},
   "cell_type": "markdown",
   "metadata": {},
   "source": [
    "## LSTM \n",
    "\n",
    "- unidirectional"
   ]
  },
  {
   "cell_type": "code",
   "execution_count": null,
   "metadata": {},
   "outputs": [],
   "source": [
    "class Epitope_LSTM(nn.Module):\n",
    "    def __init__(self, embedding_dim, hidden_dim, num_layers, num_classes) -> None:\n",
    "        super(Epitope_LSTM, self).__init__()\n",
    "        self.num_layers = num_layers\n",
    "        self.hidden_dim = hidden_dim\n",
    "        self.embedding = nn.Embedding(20, embedding_dim)\n",
    "        self.lstm = nn.LSTM(embedding_dim, hidden_dim, num_layers, batch_first=True, bidirectional=False)\n",
    "        # x shape -> (batch_size, seq_size, input_size)\n",
    "\n",
    "        self.fc = nn.Linear(hidden_dim, num_classes)\n",
    "    \n",
    "    def forward(self, seq):\n",
    "        h0 = torch.zeros(self.num_layers, seq.size(0), self.hidden_dim).to(device)\n",
    "        c0 = torch.zeros(self.num_layers, seq.size(0), self.hidden_dim).to(device)\n",
    "\n",
    "        out, _ = self.lstm(self.embedding(seq), (h0,c0))\n",
    "        # out: batch_size, seq_length, hidden_dim\n",
    "        # out (N, seq , 32)\n",
    "        out = out[:, -1, :]\n",
    "        # out (N, 32)\n",
    "        out = self.fc(out)\n",
    "        return out"
   ]
  },
  {
   "cell_type": "code",
   "execution_count": null,
   "metadata": {},
   "outputs": [],
   "source": [
    "lstm = Epitope_LSTM(embedding_dim, hidden_dim, num_layers, num_classes).to(device)"
   ]
  },
  {
   "cell_type": "code",
   "execution_count": null,
   "metadata": {},
   "outputs": [],
   "source": [
    "train_test(lstm, 20, batch_size, 0.1, pep_tensor, labels_tensor, pep_tensor_test, labels_tensor_test)"
   ]
  },
  {
   "attachments": {},
   "cell_type": "markdown",
   "metadata": {},
   "source": [
    "## LSTM with Sigmoid"
   ]
  },
  {
   "cell_type": "code",
   "execution_count": null,
   "metadata": {},
   "outputs": [],
   "source": [
    "class Epitope_LSTM_sig(nn.Module):\n",
    "    def __init__(self, embedding_dim, hidden_dim, num_layers, num_classes) -> None:\n",
    "        super(Epitope_LSTM_sig, self).__init__()\n",
    "        self.num_layers = num_layers\n",
    "        self.hidden_dim = hidden_dim\n",
    "        self.embedding = nn.Embedding(20, embedding_dim)\n",
    "        self.lstm = nn.LSTM(embedding_dim, hidden_dim, num_layers, batch_first=True, bidirectional=True)\n",
    "        # x shape -> (batch_size, seq_size, input_size)\n",
    "\n",
    "        self.fc = nn.Sequential(\n",
    "            nn.Linear(hidden_dim*2, 20),\n",
    "            nn.Sigmoid(),\n",
    "            nn.Linear(20, num_classes)\n",
    "        )\n",
    "    \n",
    "    def forward(self, seq):\n",
    "        h0 = torch.zeros(self.num_layers*2, seq.size(0), self.hidden_dim).to(device)\n",
    "        c0 = torch.zeros(self.num_layers*2, seq.size(0), self.hidden_dim).to(device)\n",
    "\n",
    "        out, _ = self.lstm(self.embedding(seq), (h0,c0))\n",
    "        # out: batch_size, seq_length, hidden_dim\n",
    "        # out (N, seq , 32)\n",
    "        out = out[:, -1, :]\n",
    "        # out (N, 32)\n",
    "        out = self.fc(out)\n",
    "        return out"
   ]
  },
  {
   "cell_type": "code",
   "execution_count": null,
   "metadata": {},
   "outputs": [],
   "source": [
    "lstm_sig = Epitope_LSTM_sig(embedding_dim, hidden_dim, num_layers, num_classes).to(device)"
   ]
  },
  {
   "cell_type": "code",
   "execution_count": null,
   "metadata": {},
   "outputs": [],
   "source": [
    "train_test(lstm_sig, 40, batch_size, learning_rate, pep_tensor, labels_tensor, pep_tensor_test, labels_tensor_test)"
   ]
  },
  {
   "attachments": {},
   "cell_type": "markdown",
   "metadata": {},
   "source": [
    "## LSTM with multi-head attention mechanism\n",
    "-unidirectional"
   ]
  },
  {
   "cell_type": "code",
   "execution_count": null,
   "metadata": {},
   "outputs": [],
   "source": [
    "class LSTM_Attention(nn.Module):\n",
    "    def __init__(self, embedding_dim, hidden_dim, num_layers, num_classes) -> None:\n",
    "        super(LSTM_Attention, self).__init__()\n",
    "        self.num_layers = num_layers\n",
    "        self.hidden_dim = hidden_dim\n",
    "        self.embedding = nn.Embedding(20, embedding_dim)\n",
    "        self.lstm = nn.LSTM(embedding_dim, hidden_dim, num_layers, batch_first=True, bidirectional=False)\n",
    "        # x shape -> (batch_size, seq_size, input_size)\n",
    "\n",
    "        self.attention = nn.MultiheadAttention(embed_dim=hidden_dim, num_heads=1)\n",
    "\n",
    "        self.fc = nn.Sequential(\n",
    "            nn.Linear(hidden_dim, 20),\n",
    "            nn.Sigmoid(),\n",
    "            nn.Linear(20, num_classes)\n",
    "        )\n",
    "    \n",
    "    def forward(self, pep_seq, prot_seq):\n",
    "        h0 = torch.zeros(self.num_layers, pep_seq.size(0), self.hidden_dim).to(device)\n",
    "        c0 = torch.zeros(self.num_layers, pep_seq.size(0), self.hidden_dim).to(device)\n",
    "\n",
    "        peptide_lstm, _ = self.lstm(self.embedding(pep_seq), (h0,c0))\n",
    "        protein_lstm, _ = self.lstm(self.embedding(prot_seq), (h0,c0))\n",
    "        # out: batch_size, seq_length, hidden_dim\n",
    "\n",
    "        #permutations for attention\n",
    "        peptide_lstm = peptide_lstm.permute(1,0,2)\n",
    "        protein_lstm = protein_lstm.permute(1,0,2)\n",
    "\n",
    "        #attention\n",
    "        out, _ = self.attention(peptide_lstm, protein_lstm, protein_lstm)\n",
    "        # out (seq, N, 32)\n",
    "\n",
    "        #back to original shape\n",
    "        out = out.permute(1,0,2)\n",
    "\n",
    "        # out (N, seq , 32)\n",
    "        # take the last output of the LSTM\n",
    "        out = out[:, -1, :]\n",
    "        # out (N, 32)\n",
    "        out = self.fc(out)\n",
    "        return out"
   ]
  },
  {
   "cell_type": "code",
   "execution_count": null,
   "metadata": {},
   "outputs": [],
   "source": [
    "attn = LSTM_Attention(embedding_dim, hidden_dim, num_layers, num_classes).to(device)\n"
   ]
  },
  {
   "cell_type": "code",
   "execution_count": null,
   "metadata": {},
   "outputs": [],
   "source": [
    "attn(pep_tensor, prot_tensor)"
   ]
  },
  {
   "cell_type": "code",
   "execution_count": null,
   "metadata": {},
   "outputs": [],
   "source": [
    "def train_test_attn(model, epochs, batch_size, learning_rate, pep_train, prot_train, label, pep_test, prot_test, label_test, updates=False):\n",
    "    '''\n",
    "    train and test for LSTM with attention\n",
    "    '''\n",
    "\n",
    "    criterion = nn.CrossEntropyLoss()\n",
    "    optimizer = torch.optim.SGD(model.parameters(), lr=learning_rate)\n",
    "\n",
    "    for epoch in range(epochs):\n",
    "        loss_sum = 0\n",
    "        acc_sum = 0\n",
    "        acc_sum_test = 0\n",
    "        for i in range(0, len(pep_train), batch_size):\n",
    "            batch_pep = pep_train[i:i+batch_size]\n",
    "            batch_prot = prot_train[i:i+batch_size]\n",
    "            batch_label = label[i:i+batch_size]\n",
    "\n",
    "            #forward\n",
    "            optimizer.zero_grad()\n",
    "            outputs = model(batch_pep, batch_prot)\n",
    "\n",
    "            loss = criterion(outputs, batch_label)\n",
    "\n",
    "            loss.backward()\n",
    "            optimizer.step()\n",
    "\n",
    "            loss_sum += loss.item()\n",
    "\n",
    "            predicted = torch.argmax(outputs, dim=1)\n",
    "            acc_sum += (predicted == batch_label).sum().item() / len(batch_label)\n",
    "\n",
    "        loss_avg = round((loss_sum / (len(pep_train) / batch_size)), 3)\n",
    "        acc_avg = round((acc_sum / (len(pep_train) / batch_size)), 3)\n",
    "\n",
    "        predicted_test = torch.argmax(model(pep_test, prot_test), dim=1)\n",
    "        acc_sum_test += (predicted_test == label_test).sum().item() / len(label_test)\n",
    "        acc_avg_test = round((acc_sum_test), 3)\n",
    "\n",
    "        if updates == True:\n",
    "            print(f'Epoch = {epoch+1}, loss = {loss_avg}, acc = {acc_avg*100}, test_acc = {acc_avg_test*100}')\n",
    "        # scores.loc[epoch, \"Epoch\"] = epoch + 1\n",
    "        scores.loc[epoch, 'Training Accuracy'] = acc_avg*100\n",
    "        scores.loc[epoch, 'Test Accuracy'] = acc_avg_test*100\n",
    "\n",
    "    scores.plot(kind='line')\n",
    "\n",
    "    print('Finished Training')\n"
   ]
  },
  {
   "cell_type": "code",
   "execution_count": null,
   "metadata": {},
   "outputs": [],
   "source": [
    "train_test_attn(attn, 20, batch_size, learning_rate, pep_tensor, prot_tensor, labels_tensor, pep_tensor_test, prot_tensor_test, labels_tensor_test)"
   ]
  },
  {
   "attachments": {},
   "cell_type": "markdown",
   "metadata": {},
   "source": [
    "## Bidirectional LSTM\n"
   ]
  },
  {
   "cell_type": "code",
   "execution_count": 7,
   "metadata": {},
   "outputs": [],
   "source": [
    "class Epitope_biLSTM(nn.Module):\n",
    "    def __init__(self, embedding_dim, hidden_dim, num_layers, num_classes) -> None:\n",
    "        super(Epitope_biLSTM, self).__init__()\n",
    "        self.num_layers = num_layers\n",
    "        self.hidden_dim = hidden_dim\n",
    "        self.embedding = nn.Embedding(20, embedding_dim)\n",
    "        self.lstm = nn.LSTM(embedding_dim, hidden_dim, num_layers, batch_first=True,\n",
    "                            bidirectional=True)\n",
    "        # x shape -> (batch_size, seq_size, input_size)\n",
    "\n",
    "        self.fc = nn.Linear(hidden_dim*2, num_classes)\n",
    "    \n",
    "    def forward(self, seq):\n",
    "        # Set initial hidden and cell states\n",
    "        h0 = torch.zeros(self.num_layers*2, seq.size(0), self.hidden_dim).to(device)\n",
    "        c0 = torch.zeros(self.num_layers*2, seq.size(0), self.hidden_dim).to(device)\n",
    "\n",
    "        out, _ = self.lstm(self.embedding(seq), (h0,c0))\n",
    "        # out: batch_size, seq_length, hidden_dim\n",
    "        # out (N, seq , 32)\n",
    "        out = out[:, -1, :]\n",
    "        # out (N, 32)\n",
    "        out = self.fc(out)\n",
    "        return out"
   ]
  },
  {
   "cell_type": "code",
   "execution_count": 8,
   "metadata": {},
   "outputs": [],
   "source": [
    "biLSTM = Epitope_biLSTM(embedding_dim, hidden_dim, num_layers, num_classes).to(device)"
   ]
  },
  {
   "cell_type": "code",
   "execution_count": 9,
   "metadata": {},
   "outputs": [
    {
     "data": {
      "text/plain": [
       "tensor([[-0.0701,  0.0647],\n",
       "        [-0.0678,  0.0644],\n",
       "        [-0.0759,  0.0534],\n",
       "        ...,\n",
       "        [-0.0655,  0.0754],\n",
       "        [-0.0710,  0.0563],\n",
       "        [-0.0594,  0.0910]], grad_fn=<AddmmBackward0>)"
      ]
     },
     "execution_count": 9,
     "metadata": {},
     "output_type": "execute_result"
    }
   ],
   "source": [
    "biLSTM(pep_tensor)"
   ]
  },
  {
   "attachments": {},
   "cell_type": "markdown",
   "metadata": {},
   "source": [
    "## Neural network for protein and peptide features"
   ]
  },
  {
   "cell_type": "code",
   "execution_count": 111,
   "metadata": {},
   "outputs": [],
   "source": [
    "# simple neural network for numeric features\n",
    "class Simple_NN(nn.Module):\n",
    "    def __init__(self, input_dim, hidden_dim, num_classes) -> None:\n",
    "        super(Simple_NN, self).__init__()\n",
    "        self.fc1 = nn.Linear(input_dim, hidden_dim)\n",
    "        self.relu = nn.Sigmoid()\n",
    "        self.fc2 = nn.Linear(hidden_dim, num_classes)\n",
    "\n",
    "    def forward(self, x):\n",
    "        out = self.fc1(x)\n",
    "        out = self.relu(out)\n",
    "        out = self.fc2(out)\n",
    "        return out\n",
    "    \n",
    "    def predict(self, x):\n",
    "        out = self.forward(x)\n",
    "\n",
    "        return torch.argmax(out, dim=1)"
   ]
  },
  {
   "cell_type": "code",
   "execution_count": 100,
   "metadata": {},
   "outputs": [],
   "source": [
    "def simple_train_test(model, num_epochs, lr, X_train, y_train, X_test, y_test, batch_size, updates=False):\n",
    "    \n",
    "    criterion = nn.CrossEntropyLoss()\n",
    "    optimizer = torch.optim.Adam(model.parameters(), lr=lr)\n",
    "    scores = pd.DataFrame()\n",
    "\n",
    "    for epoch in range(num_epochs):\n",
    "        loss_sum = 0\n",
    "        acc_sum = 0\n",
    "        acc_sum_test = 0\n",
    "        for i in range(0, len(X_train), batch_size):\n",
    "            batch_X = X_train[i:i+batch_size]\n",
    "            batch_y = y_train[i:i+batch_size]\n",
    "\n",
    "            optimizer.zero_grad()\n",
    "            outputs = model(batch_X)\n",
    "\n",
    "            loss = criterion(outputs, batch_y)\n",
    "\n",
    "            loss.backward()\n",
    "            optimizer.step()\n",
    "\n",
    "            loss_sum += loss.item()\n",
    "\n",
    "            predicted = model.predict(batch_X)\n",
    "            acc_sum += (predicted == batch_y).sum().item() / len(batch_y)\n",
    "\n",
    "        loss_avg = round((loss_sum / (len(X_train) / batch_size)), 3)\n",
    "        acc_avg = round((acc_sum / (len(X_train) / batch_size)), 3)\n",
    "\n",
    "        predicted_test = model.predict(X_test)\n",
    "        acc_sum_test = (predicted_test == y_test).sum().item() / len(y_test)\n",
    "        acc_avg_test = round((acc_sum_test), 3)\n",
    "\n",
    "        if updates == True:\n",
    "            print(f'Epoch = {epoch+1}, loss = {loss_avg}, acc = {acc_avg*100}, test_acc = {acc_avg_test*100}')\n",
    "\n",
    "        scores.loc[epoch, 'Training Accuracy'] = acc_avg*100\n",
    "        scores.loc[epoch, 'Test Accuracy'] = acc_avg_test*100\n",
    "    \n",
    "    scores.plot(kind='line')\n",
    "    print('Finished Training')"
   ]
  },
  {
   "cell_type": "code",
   "execution_count": 112,
   "metadata": {},
   "outputs": [],
   "source": [
    "from sklearn.model_selection import train_test_split\n",
    "\n",
    "# setting features\n",
    "features = ['chou_fasman', 'emini', 'kolaskar_tongaonkar', 'parker', \n",
    "            'parent_hydrophobicity', 'parent_isoelectric_point', 'parent_aromaticity', 'parent_instability_index',\n",
    "            'amino_acid_pro', 'amino_acid_tyr', 'start_position']\n",
    "\n",
    "# X_train = df[features]\n",
    "# X_test = df_test[features]\n",
    "# y_train = df['antibody_activity']\n",
    "# y_test = df_test['antibody_activity']\n",
    "\n",
    "# load bcell/sars data\n",
    "bcell_sars = pd.read_csv('bcell_sars_cleaned.csv')\n",
    "X = bcell_sars[features]\n",
    "y = bcell_sars['antibody_activity']\n",
    "\n",
    "# split into train and test\n",
    "X_train, X_test, y_train, y_test = train_test_split(X, y, test_size=0.2, random_state=0, stratify=y)\n",
    "\n",
    "# scale features\n",
    "scaler = StandardScaler()\n",
    "scaler.fit(X_train)\n",
    "X_train = scaler.transform(X_train)\n",
    "X_test = scaler.transform(X_test)\n",
    "\n",
    "# convert to tensors\n",
    "X_train = torch.FloatTensor(X_train)\n",
    "X_test = torch.FloatTensor(X_test)\n",
    "y_train = torch.LongTensor(y_train.values)\n",
    "y_test = torch.LongTensor(y_test.values)\n",
    "\n"
   ]
  },
  {
   "cell_type": "code",
   "execution_count": 115,
   "metadata": {},
   "outputs": [],
   "source": [
    "input_dim = len(features)\n",
    "simple_nn = Simple_NN(input_dim, hidden_dim, num_classes).to(device)"
   ]
  },
  {
   "cell_type": "code",
   "execution_count": 114,
   "metadata": {},
   "outputs": [
    {
     "name": "stdout",
     "output_type": "stream",
     "text": [
      "Epoch = 1, loss = 0.572, acc = 72.5, test_acc = 73.9\n",
      "Epoch = 2, loss = 0.556, acc = 73.7, test_acc = 74.3\n",
      "Epoch = 3, loss = 0.555, acc = 73.7, test_acc = 74.4\n",
      "Epoch = 4, loss = 0.555, acc = 73.8, test_acc = 74.4\n",
      "Epoch = 5, loss = 0.554, acc = 73.8, test_acc = 74.5\n",
      "Epoch = 6, loss = 0.553, acc = 73.9, test_acc = 74.3\n",
      "Epoch = 7, loss = 0.552, acc = 73.9, test_acc = 74.2\n",
      "Epoch = 8, loss = 0.551, acc = 74.0, test_acc = 74.2\n",
      "Epoch = 9, loss = 0.55, acc = 74.0, test_acc = 74.2\n",
      "Epoch = 10, loss = 0.549, acc = 74.1, test_acc = 74.1\n",
      "Epoch = 11, loss = 0.548, acc = 74.1, test_acc = 74.2\n",
      "Epoch = 12, loss = 0.547, acc = 74.1, test_acc = 74.1\n",
      "Epoch = 13, loss = 0.546, acc = 74.2, test_acc = 74.1\n",
      "Epoch = 14, loss = 0.545, acc = 74.1, test_acc = 74.0\n",
      "Epoch = 15, loss = 0.543, acc = 74.2, test_acc = 73.9\n",
      "Epoch = 16, loss = 0.542, acc = 74.2, test_acc = 73.9\n",
      "Epoch = 17, loss = 0.54, acc = 74.3, test_acc = 74.1\n",
      "Epoch = 18, loss = 0.539, acc = 74.3, test_acc = 74.4\n",
      "Epoch = 19, loss = 0.537, acc = 74.3, test_acc = 74.6\n",
      "Epoch = 20, loss = 0.535, acc = 74.4, test_acc = 74.8\n",
      "Epoch = 21, loss = 0.534, acc = 74.5, test_acc = 74.8\n",
      "Epoch = 22, loss = 0.532, acc = 74.5, test_acc = 75.0\n",
      "Epoch = 23, loss = 0.53, acc = 74.6, test_acc = 75.2\n",
      "Epoch = 24, loss = 0.529, acc = 74.8, test_acc = 75.2\n",
      "Epoch = 25, loss = 0.527, acc = 75.0, test_acc = 75.4\n",
      "Epoch = 26, loss = 0.525, acc = 75.0, test_acc = 75.5\n",
      "Epoch = 27, loss = 0.523, acc = 75.0, test_acc = 75.6\n",
      "Epoch = 28, loss = 0.521, acc = 75.2, test_acc = 75.6\n",
      "Epoch = 29, loss = 0.519, acc = 75.4, test_acc = 75.8\n",
      "Epoch = 30, loss = 0.517, acc = 75.3, test_acc = 76.1\n",
      "Epoch = 31, loss = 0.515, acc = 75.5, test_acc = 76.2\n",
      "Epoch = 32, loss = 0.513, acc = 75.6, test_acc = 76.3\n",
      "Epoch = 33, loss = 0.511, acc = 75.7, test_acc = 76.6\n",
      "Epoch = 34, loss = 0.509, acc = 75.8, test_acc = 76.6\n",
      "Epoch = 35, loss = 0.507, acc = 75.9, test_acc = 76.9\n",
      "Epoch = 36, loss = 0.505, acc = 76.0, test_acc = 76.9\n",
      "Epoch = 37, loss = 0.504, acc = 76.2, test_acc = 76.9\n",
      "Epoch = 38, loss = 0.502, acc = 76.3, test_acc = 77.0\n",
      "Epoch = 39, loss = 0.501, acc = 76.6, test_acc = 77.60000000000001\n",
      "Epoch = 40, loss = 0.499, acc = 76.7, test_acc = 77.60000000000001\n",
      "Epoch = 41, loss = 0.498, acc = 76.9, test_acc = 77.8\n",
      "Epoch = 42, loss = 0.496, acc = 77.0, test_acc = 77.60000000000001\n",
      "Epoch = 43, loss = 0.495, acc = 77.10000000000001, test_acc = 77.7\n",
      "Epoch = 44, loss = 0.494, acc = 77.2, test_acc = 77.60000000000001\n",
      "Epoch = 45, loss = 0.493, acc = 77.4, test_acc = 77.5\n",
      "Epoch = 46, loss = 0.491, acc = 77.5, test_acc = 77.60000000000001\n",
      "Epoch = 47, loss = 0.49, acc = 77.8, test_acc = 77.60000000000001\n",
      "Epoch = 48, loss = 0.489, acc = 77.8, test_acc = 77.8\n",
      "Epoch = 49, loss = 0.487, acc = 77.9, test_acc = 77.9\n",
      "Epoch = 50, loss = 0.486, acc = 78.0, test_acc = 77.9\n",
      "Epoch = 51, loss = 0.485, acc = 78.10000000000001, test_acc = 78.0\n",
      "Epoch = 52, loss = 0.483, acc = 78.10000000000001, test_acc = 78.0\n",
      "Epoch = 53, loss = 0.482, acc = 78.3, test_acc = 77.8\n",
      "Epoch = 54, loss = 0.481, acc = 78.3, test_acc = 77.8\n",
      "Epoch = 55, loss = 0.479, acc = 78.4, test_acc = 77.8\n",
      "Epoch = 56, loss = 0.478, acc = 78.5, test_acc = 77.7\n",
      "Epoch = 57, loss = 0.477, acc = 78.60000000000001, test_acc = 77.7\n",
      "Epoch = 58, loss = 0.476, acc = 78.7, test_acc = 77.7\n",
      "Epoch = 59, loss = 0.474, acc = 78.7, test_acc = 77.7\n",
      "Epoch = 60, loss = 0.473, acc = 78.9, test_acc = 77.8\n",
      "Epoch = 61, loss = 0.472, acc = 79.0, test_acc = 77.8\n",
      "Epoch = 62, loss = 0.471, acc = 79.0, test_acc = 77.9\n",
      "Epoch = 63, loss = 0.47, acc = 79.0, test_acc = 77.9\n",
      "Epoch = 64, loss = 0.469, acc = 79.10000000000001, test_acc = 77.8\n",
      "Epoch = 65, loss = 0.468, acc = 79.10000000000001, test_acc = 77.8\n",
      "Epoch = 66, loss = 0.466, acc = 79.2, test_acc = 77.9\n",
      "Epoch = 67, loss = 0.465, acc = 79.3, test_acc = 77.8\n",
      "Epoch = 68, loss = 0.464, acc = 79.4, test_acc = 77.9\n",
      "Epoch = 69, loss = 0.463, acc = 79.4, test_acc = 77.8\n",
      "Epoch = 70, loss = 0.463, acc = 79.4, test_acc = 77.8\n",
      "Epoch = 71, loss = 0.462, acc = 79.4, test_acc = 77.9\n",
      "Epoch = 72, loss = 0.461, acc = 79.4, test_acc = 77.8\n",
      "Epoch = 73, loss = 0.46, acc = 79.4, test_acc = 77.8\n",
      "Epoch = 74, loss = 0.459, acc = 79.4, test_acc = 77.8\n",
      "Epoch = 75, loss = 0.458, acc = 79.4, test_acc = 77.9\n",
      "Epoch = 76, loss = 0.458, acc = 79.5, test_acc = 77.8\n",
      "Epoch = 77, loss = 0.457, acc = 79.60000000000001, test_acc = 77.9\n",
      "Epoch = 78, loss = 0.456, acc = 79.60000000000001, test_acc = 77.9\n",
      "Epoch = 79, loss = 0.455, acc = 79.7, test_acc = 77.8\n",
      "Epoch = 80, loss = 0.455, acc = 79.7, test_acc = 77.8\n",
      "Epoch = 81, loss = 0.454, acc = 79.7, test_acc = 77.7\n",
      "Epoch = 82, loss = 0.453, acc = 79.7, test_acc = 77.7\n",
      "Epoch = 83, loss = 0.453, acc = 79.80000000000001, test_acc = 77.5\n",
      "Epoch = 84, loss = 0.452, acc = 79.80000000000001, test_acc = 77.5\n",
      "Epoch = 85, loss = 0.452, acc = 79.80000000000001, test_acc = 77.5\n",
      "Epoch = 86, loss = 0.451, acc = 79.80000000000001, test_acc = 77.60000000000001\n",
      "Epoch = 87, loss = 0.45, acc = 79.80000000000001, test_acc = 77.5\n",
      "Epoch = 88, loss = 0.45, acc = 79.80000000000001, test_acc = 77.7\n",
      "Epoch = 89, loss = 0.449, acc = 79.80000000000001, test_acc = 77.7\n",
      "Epoch = 90, loss = 0.449, acc = 79.80000000000001, test_acc = 77.7\n",
      "Epoch = 91, loss = 0.448, acc = 79.9, test_acc = 77.8\n",
      "Epoch = 92, loss = 0.448, acc = 80.0, test_acc = 77.8\n",
      "Epoch = 93, loss = 0.447, acc = 80.0, test_acc = 77.9\n",
      "Epoch = 94, loss = 0.447, acc = 80.0, test_acc = 77.9\n",
      "Epoch = 95, loss = 0.446, acc = 80.10000000000001, test_acc = 77.9\n",
      "Epoch = 96, loss = 0.446, acc = 80.10000000000001, test_acc = 78.10000000000001\n",
      "Epoch = 97, loss = 0.445, acc = 80.10000000000001, test_acc = 78.10000000000001\n",
      "Epoch = 98, loss = 0.445, acc = 80.10000000000001, test_acc = 78.10000000000001\n",
      "Epoch = 99, loss = 0.444, acc = 80.2, test_acc = 78.2\n",
      "Epoch = 100, loss = 0.444, acc = 80.2, test_acc = 78.3\n",
      "Finished Training\n"
     ]
    },
    {
     "data": {
      "image/png": "[encoded data removed]",
      "text/plain": [
       "<Figure size 640x480 with 1 Axes>"
      ]
     },
     "metadata": {},
     "output_type": "display_data"
    }
   ],
   "source": [
    "simple_train_test(simple_nn, 100, 0.3, X_train, y_train, X_test, y_test, batch_size, updates=True)"
   ]
  },
  {
   "cell_type": "code",
   "execution_count": 50,
   "metadata": {},
   "outputs": [
    {
     "data": {
      "text/plain": [
       "antibody_activity\n",
       "0    0.728967\n",
       "1    0.271033\n",
       "Name: proportion, dtype: float64"
      ]
     },
     "execution_count": 50,
     "metadata": {},
     "output_type": "execute_result"
    }
   ],
   "source": [
    "df['antibody_activity'].value_counts(normalize=True)"
   ]
  },
  {
   "cell_type": "code",
   "execution_count": null,
   "metadata": {},
   "outputs": [],
   "source": []
  }
 ],
 "metadata": {
  "kernelspec": {
   "display_name": "deeplearning",
   "language": "python",
   "name": "deeplearning"
  },
  "language_info": {
   "codemirror_mode": {
    "name": "ipython",
    "version": 3
   },
   "file_extension": ".py",
   "mimetype": "text/x-python",
   "name": "python",
   "nbconvert_exporter": "python",
   "pygments_lexer": "ipython3",
   "version": "3.8.16"
  },
  "orig_nbformat": 4
 },
 "nbformat": 4,
 "nbformat_minor": 2
}
